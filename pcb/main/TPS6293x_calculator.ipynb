{
  "nbformat": 4,
  "nbformat_minor": 0,
  "metadata": {
    "colab": {
      "provenance": []
    },
    "kernelspec": {
      "name": "python3",
      "display_name": "Python 3"
    },
    "language_info": {
      "name": "python"
    }
  },
  "cells": [
    {
      "cell_type": "code",
      "source": [
        "!pip install pint"
      ],
      "metadata": {
        "colab": {
          "base_uri": "https://localhost:8080/"
        },
        "id": "c1qOCNGj2Ks5",
        "outputId": "86793fdb-c121-41ef-c91a-ecb00488867a"
      },
      "execution_count": null,
      "outputs": [
        {
          "output_type": "stream",
          "name": "stdout",
          "text": [
            "Requirement already satisfied: pint in /usr/local/lib/python3.10/dist-packages (0.22)\n",
            "Requirement already satisfied: typing-extensions in /usr/local/lib/python3.10/dist-packages (from pint) (4.5.0)\n"
          ]
        }
      ]
    },
    {
      "cell_type": "code",
      "source": [
        "import numpy\n",
        "import pint\n",
        "ureg = pint.UnitRegistry()"
      ],
      "metadata": {
        "id": "42ZcxJdG2hWO"
      },
      "execution_count": null,
      "outputs": []
    },
    {
      "cell_type": "code",
      "execution_count": null,
      "metadata": {
        "id": "3V53t3-y1m4E"
      },
      "outputs": [],
      "source": [
        "def calculate_enable_resisotrs(v_in: float, v_start: float, v_stop: float):\n",
        "  i_p = 0.7 * ureg.uA\n",
        "  i_h = 1.4 * ureg.uA\n",
        "  v_en_fall = 1.17 * ureg.V\n",
        "  v_en_rise = 1.21 * ureg.V\n",
        "\n",
        "  r_1 = (v_start * (v_en_fall/v_en_rise) - v_stop) / (i_p * (1 - v_en_fall/v_en_rise) + i_h)\n",
        "  r_2 = (r_1 * v_en_fall) / (v_stop - v_en_fall + r_1 * (i_p + i_h))\n",
        "  v_en = (r_2 * v_in + r_1 * r_2 * (i_p + i_h)) / (r_1 + r_2)\n",
        "\n",
        "  return {\n",
        "      'r_1': r_1.to(\"kohm\"),\n",
        "      'r_2': r_2.to(\"kohm\"),\n",
        "      'v_en': v_en,\n",
        "  }\n",
        "\n",
        "def calculate_feedback_resistor(v_out: float, r_fbb: float):\n",
        "  v_ref = 0.8 * ureg.V\n",
        "  r_fbt = (v_out - v_ref) / v_ref * r_fbb\n",
        "  return {'r_fbt': r_fbt}\n",
        "\n",
        "def calculate_output_voltage(r_fbt: float, r_fbb: float):\n",
        "  v_ref = 0.8 * ureg.V\n",
        "  v_out = ((r_fbt / r_fbb) * v_ref) + v_ref\n",
        "\n",
        "  return {'v_out': v_out.to(\"volt\")}\n",
        "\n",
        "def calculate_inductor(v_in: float, v_out: float, f_sw: float, i_out_max: float, k: float = 0.4):\n",
        "  l = ((v_in - v_out)/(f_sw * k * i_out_max)) * (v_out / v_in)\n",
        "  delta_i_l = (v_out / v_in) * ((v_in - v_out)/(l * f_sw))\n",
        "  i_l_peak = i_out_max + (delta_i_l/2)\n",
        "  i_l_rms = numpy.sqrt(i_out_max**2 + (delta_i_l**2/12))\n",
        "  return {\n",
        "      'l': l.to('uH'),\n",
        "      'delta_i_l': delta_i_l,\n",
        "      'i_l_peak': i_l_peak,\n",
        "      'i_l_rms': i_l_rms,\n",
        "  }\n",
        "\n",
        "def calculate_output_capacitance(target_ripple: float, i_out: float, f_sw: float, k: float = 0.4):\n",
        "  esr_ripple = target_ripple / (k * i_out)\n",
        "  c_out_ripple = ((k * i_out)/(8 * f_sw * target_ripple))\n",
        "\n",
        "  return {\n",
        "    'esr_ripple': esr_ripple.to('mohm'),\n",
        "    'c_out_ripple': c_out_ripple.to('uF'),\n",
        "  }\n",
        "\n",
        "def calculate_soft_start_capacitance(t_ss: float):\n",
        "  v_ref = 0.8 * ureg.V\n",
        "  i_ss = 5.5 * ureg.uA\n",
        "  c_ss = (t_ss * i_ss) / v_ref\n",
        "\n",
        "  return {\n",
        "    'c_ss': c_ss.to('nF'),\n",
        "  }\n"
      ]
    },
    {
      "cell_type": "code",
      "source": [
        "calculate_enable_resisotrs(24 * ureg.V, 14 * ureg.V, 12 * ureg.V)"
      ],
      "metadata": {
        "colab": {
          "base_uri": "https://localhost:8080/"
        },
        "id": "wAIDws0N2xSC",
        "outputId": "e3f0437f-898c-4c3b-b8a9-2aa719395091"
      },
      "execution_count": null,
      "outputs": [
        {
          "output_type": "execute_result",
          "data": {
            "text/plain": [
              "{'r_1': 1080.1393728222997 <Unit('kiloohm')>,\n",
              " 'r_2': 96.48303765950824 <Unit('kiloohm')>,\n",
              " 'v_en': 2.154 <Unit('volt')>}"
            ]
          },
          "metadata": {},
          "execution_count": 92
        }
      ]
    },
    {
      "cell_type": "code",
      "source": [
        "calculate_feedback_resistor(10 * ureg.V, 10 * ureg.kohm)"
      ],
      "metadata": {
        "colab": {
          "base_uri": "https://localhost:8080/"
        },
        "id": "teoCVF-u20u1",
        "outputId": "020ae738-df1a-49a6-fbd9-69907e1de384"
      },
      "execution_count": null,
      "outputs": [
        {
          "output_type": "execute_result",
          "data": {
            "text/plain": [
              "{'r_fbt': 114.99999999999999 <Unit('kiloohm')>}"
            ]
          },
          "metadata": {},
          "execution_count": 93
        }
      ]
    },
    {
      "cell_type": "code",
      "source": [
        "calculate_output_voltage(115 * ureg.kohm, 10 * ureg.kohm)"
      ],
      "metadata": {
        "colab": {
          "base_uri": "https://localhost:8080/"
        },
        "id": "IZgAJ5yOCk1t",
        "outputId": "f2705210-f13b-41d9-8d87-7144f7df0cb6"
      },
      "execution_count": null,
      "outputs": [
        {
          "output_type": "execute_result",
          "data": {
            "text/plain": [
              "{'v_out': 10.000000000000002 <Unit('volt')>}"
            ]
          },
          "metadata": {},
          "execution_count": 94
        }
      ]
    },
    {
      "cell_type": "code",
      "source": [
        "115 * 0.01"
      ],
      "metadata": {
        "colab": {
          "base_uri": "https://localhost:8080/"
        },
        "id": "aQaGgMtxFR5K",
        "outputId": "5b73dd75-7924-4320-b3a3-b5882c8b3102"
      },
      "execution_count": null,
      "outputs": [
        {
          "output_type": "execute_result",
          "data": {
            "text/plain": [
              "1.1500000000000001"
            ]
          },
          "metadata": {},
          "execution_count": 95
        }
      ]
    },
    {
      "cell_type": "code",
      "source": [
        "calculate_inductor(24 * ureg.V, 10 * ureg.V, 500 * ureg.kHz, 3 * ureg.A)\n"
      ],
      "metadata": {
        "colab": {
          "base_uri": "https://localhost:8080/"
        },
        "id": "Zj8iW086FswT",
        "outputId": "82936a5e-249c-446b-ad8c-9dd0fd04b886"
      },
      "execution_count": null,
      "outputs": [
        {
          "output_type": "execute_result",
          "data": {
            "text/plain": [
              "{'l': 9.722222222222223 <Unit('microhenry')>,\n",
              " 'delta_i_l': 1.2 <Unit('ampere')>,\n",
              " 'i_l_peak': 3.6 <Unit('ampere')>,\n",
              " 'i_l_rms': 3.0199337741082997 <Unit('ampere')>}"
            ]
          },
          "metadata": {},
          "execution_count": 96
        }
      ]
    },
    {
      "cell_type": "code",
      "source": [
        "calculate_inductor(30 * ureg.V, 5 * ureg.V, 500 * ureg.kHz, 3 * ureg.A)\n"
      ],
      "metadata": {
        "colab": {
          "base_uri": "https://localhost:8080/"
        },
        "id": "FKUXo7VORnYL",
        "outputId": "90c6a250-c841-42d6-c89d-69aac1051f8a"
      },
      "execution_count": null,
      "outputs": [
        {
          "output_type": "execute_result",
          "data": {
            "text/plain": [
              "{'l': 6.944444444444444 <Unit('microhenry')>,\n",
              " 'delta_i_l': 1.2000000000000002 <Unit('ampere')>,\n",
              " 'i_l_peak': 3.6 <Unit('ampere')>,\n",
              " 'i_l_rms': 3.0199337741082997 <Unit('ampere')>}"
            ]
          },
          "metadata": {},
          "execution_count": 97
        }
      ]
    },
    {
      "cell_type": "code",
      "source": [
        "calculate_output_capacitance(target_ripple=30 * ureg.mV, i_out = 3 * ureg.A, f_sw = 500 * ureg.kHz)"
      ],
      "metadata": {
        "colab": {
          "base_uri": "https://localhost:8080/"
        },
        "id": "lWxLTrcgTjxo",
        "outputId": "6034dbf2-40d4-4747-c1c1-bc474013b429"
      },
      "execution_count": null,
      "outputs": [
        {
          "output_type": "execute_result",
          "data": {
            "text/plain": [
              "{'esr_ripple': 24.999999999999996 <Unit('milliohm')>,\n",
              " 'c_out_ripple': 10.0 <Unit('microfarad')>}"
            ]
          },
          "metadata": {},
          "execution_count": 98
        }
      ]
    },
    {
      "cell_type": "code",
      "source": [
        "calculate_soft_start_capacitance(t_ss = 15 * ureg.ms)"
      ],
      "metadata": {
        "colab": {
          "base_uri": "https://localhost:8080/"
        },
        "id": "Ok2jXUnBdZh7",
        "outputId": "1e29b372-8ee7-439f-d9b2-72faa9fcd4bb"
      },
      "execution_count": null,
      "outputs": [
        {
          "output_type": "execute_result",
          "data": {
            "text/plain": [
              "{'c_ss': 103.125 <Unit('nanofarad')>}"
            ]
          },
          "metadata": {},
          "execution_count": 105
        }
      ]
    },
    {
      "cell_type": "code",
      "source": [],
      "metadata": {
        "id": "Ty3ZAyQx3QvP"
      },
      "execution_count": null,
      "outputs": []
    }
  ]
}